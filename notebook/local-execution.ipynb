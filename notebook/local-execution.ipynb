{
 "cells": [
  {
   "cell_type": "code",
   "execution_count": null,
   "metadata": {},
   "outputs": [],
   "source": [
    "import sys\n",
    "sys.path.append('../src/sunscan')\n",
    "\n",
    "import os\n",
    "import logging\n",
    "import datetime\n",
    "from pathlib import Path\n",
    "from zipfile import ZipFile\n",
    "from tempfile import TemporaryDirectory\n",
    "import geopandas as gpd\n",
    "\n",
    "from definitions import BoundingBox\n",
    "from sunscan_process import predict_house_roofs\n",
    "from solar_energy import calculate_solar_energy\n",
    "\n",
    "logger = logging.getLogger()\n",
    "logging.basicConfig(\n",
    "    level=os.environ.get('LOGLEVEL', 'INFO').upper()\n",
    ")\n",
    "\n",
    "MODELS_BASE_PATH = Path('../models')\n",
    "OUTPUTS_BASE_PATH = Path('../data/outputs')\n",
    "OUTPUTS_BASE_PATH.mkdir(parents=True, exist_ok=True)\n",
    "\n",
    "DEFAULT_MODEL_NAME = 'sam_vit_h_4b8939.pth'\n",
    "\n",
    "payload = {\n",
    "    'bounding_box': [-73.2316, 9.587, -73.2309, 9.5875],\n",
    "    'panel_size': 4,\n",
    "    'available_area': 0.5,\n",
    "    'panel_power': 400,\n",
    "    'dimension_factor': 0.8\n",
    "}\n",
    "\n",
    "start = datetime.datetime(2024, 1, 1)\n",
    "end = datetime.datetime(2024, 12, 31)"
   ]
  },
  {
   "cell_type": "code",
   "execution_count": null,
   "metadata": {},
   "outputs": [],
   "source": [
    "def zip_shp_result(gdf: gpd.GeoDataFrame, zip_path: Path):\n",
    "    with TemporaryDirectory() as tempdir:\n",
    "        temp_path = Path(tempdir) / 'solar_energy'\n",
    "        gdf.to_file(temp_path)\n",
    "\n",
    "        with ZipFile(zip_path.as_posix(), mode='w') as archive:\n",
    "            for file_path in temp_path.iterdir(): \n",
    "                archive.write(file_path.as_posix(), file_path.name)"
   ]
  },
  {
   "cell_type": "code",
   "execution_count": null,
   "metadata": {},
   "outputs": [],
   "source": [
    "model_checkpoint = MODELS_BASE_PATH / DEFAULT_MODEL_NAME\n",
    "\n",
    "with TemporaryDirectory() as tempdir:\n",
    "    house_roofs_shp_path = predict_house_roofs(\n",
    "        BoundingBox(*payload['bounding_box']),\n",
    "        OUTPUTS_BASE_PATH,\n",
    "        Path(tempdir),\n",
    "        model_checkpoint\n",
    "    )\n",
    "\n",
    "    start = datetime.datetime(2024, 1, 1)\n",
    "    end = datetime.datetime(2024, 12, 31)\n",
    "\n",
    "    solar_energy = calculate_solar_energy(\n",
    "        house_roofs_shp_path,\n",
    "        start,\n",
    "        end,\n",
    "        payload['panel_size'],\n",
    "        payload['available_area'],\n",
    "        payload['panel_power'] / 1000,\n",
    "        payload['dimension_factor']\n",
    "    )\n",
    "\n",
    "    zip_shp_result(solar_energy, OUTPUTS_BASE_PATH / 'solar_energy_shp.zip')\n",
    "    solar_energy.to_excel(OUTPUTS_BASE_PATH / 'solar_energy.xlsx')"
   ]
  },
  {
   "cell_type": "code",
   "execution_count": null,
   "metadata": {},
   "outputs": [],
   "source": []
  }
 ],
 "metadata": {
  "kernelspec": {
   "display_name": "Python 3",
   "language": "python",
   "name": "python3"
  },
  "language_info": {
   "codemirror_mode": {
    "name": "ipython",
    "version": 3
   },
   "file_extension": ".py",
   "mimetype": "text/x-python",
   "name": "python",
   "nbconvert_exporter": "python",
   "pygments_lexer": "ipython3",
   "version": "3.10.13"
  }
 },
 "nbformat": 4,
 "nbformat_minor": 2
}
